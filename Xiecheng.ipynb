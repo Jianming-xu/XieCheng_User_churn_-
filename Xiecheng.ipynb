{
 "cells": [
  {
   "cell_type": "markdown",
   "metadata": {},
   "source": [
    "# 携程用户流失预警模型 "
   ]
  },
  {
   "cell_type": "markdown",
   "metadata": {},
   "source": [
    "## 环境配置 "
   ]
  },
  {
   "cell_type": "code",
   "execution_count": 1,
   "metadata": {
    "ExecuteTime": {
     "end_time": "2021-03-08T02:55:38.545557Z",
     "start_time": "2021-03-08T02:55:35.576830Z"
    }
   },
   "outputs": [],
   "source": [
    "import sys\n",
    "import numpy as np\n",
    "import pandas as pd\n",
    "import scipy as sp\n",
    "import matplotlib\n",
    "import IPython\n",
    "import sklearn\n",
    "\n",
    "import matplotlib as mpl\n",
    "import matplotlib.pyplot as plt\n",
    "import matplotlib.pylab as pylab\n",
    "import seaborn as sns\n",
    "from pandas.plotting import scatter_matrix\n",
    "\n",
    "plt.style.use('ggplot')\n",
    "sns.set_style('white')\n",
    "pylab.rcParams['figure.figsize'] = 12, 8\n",
    "\n",
    "#忽略警号\n",
    "import warnings\n",
    "warnings.filterwarnings(\"ignore\")\n",
    "\n",
    "# 禁用科学计数法+保留两位小数\n",
    "pd.set_option('display.float_format',lambda x : '%.2f' % x)\n",
    "# 显示全部特征\n",
    "pd.set_option('display.max_columns', None)\n",
    "\n",
    "import random\n",
    "import time\n",
    "\n",
    "from sklearn import svm, tree, linear_model, neighbors, naive_bayes, ensemble, discriminant_analysis, gaussian_process\n",
    "from xgboost import XGBClassifier\n",
    "from sklearn.preprocessing import StandardScaler\n",
    "from sklearn.preprocessing import OneHotEncoder, LabelEncoder, OrdinalEncoder\n",
    "from sklearn import feature_selection\n",
    "from sklearn import model_selection\n",
    "from sklearn import metrics\n",
    "from sklearn.decomposition import PCA"
   ]
  },
  {
   "cell_type": "markdown",
   "metadata": {},
   "source": [
    "## 数据导入 "
   ]
  },
  {
   "cell_type": "code",
   "execution_count": 2,
   "metadata": {
    "ExecuteTime": {
     "end_time": "2021-03-08T02:55:43.905441Z",
     "start_time": "2021-03-08T02:55:38.547515Z"
    }
   },
   "outputs": [],
   "source": [
    "data_train = pd.read_table('userlostprob_train.txt')\n",
    "\n",
    "data1 = data_train.copy(deep=True)"
   ]
  },
  {
   "cell_type": "code",
   "execution_count": 3,
   "metadata": {
    "ExecuteTime": {
     "end_time": "2021-03-08T02:55:44.269218Z",
     "start_time": "2021-03-08T02:55:43.912425Z"
    }
   },
   "outputs": [
    {
     "name": "stdout",
     "output_type": "stream",
     "text": [
      "<class 'pandas.core.frame.DataFrame'>\n",
      "RangeIndex: 689945 entries, 0 to 689944\n",
      "Data columns (total 51 columns):\n",
      " #   Column                            Non-Null Count   Dtype  \n",
      "---  ------                            --------------   -----  \n",
      " 0   label                             689945 non-null  int64  \n",
      " 1   sampleid                          689945 non-null  int64  \n",
      " 2   d                                 689945 non-null  object \n",
      " 3   arrival                           689945 non-null  object \n",
      " 4   iforderpv_24h                     689945 non-null  int64  \n",
      " 5   decisionhabit_user                385450 non-null  float64\n",
      " 6   historyvisit_7ordernum            82915 non-null   float64\n",
      " 7   historyvisit_totalordernum        386525 non-null  float64\n",
      " 8   hotelcr                           689148 non-null  float64\n",
      " 9   ordercanceledprecent              447831 non-null  float64\n",
      " 10  landhalfhours                     661312 non-null  float64\n",
      " 11  ordercanncelednum                 447831 non-null  float64\n",
      " 12  commentnums                       622029 non-null  float64\n",
      " 13  starprefer                        464892 non-null  float64\n",
      " 14  novoters                          672918 non-null  float64\n",
      " 15  consuming_capacity                463837 non-null  float64\n",
      " 16  historyvisit_avghotelnum          387876 non-null  float64\n",
      " 17  cancelrate                        678227 non-null  float64\n",
      " 18  historyvisit_visit_detailpagenum  307234 non-null  float64\n",
      " 19  delta_price1                      437146 non-null  float64\n",
      " 20  price_sensitive                   463837 non-null  float64\n",
      " 21  hoteluv                           689148 non-null  float64\n",
      " 22  businessrate_pre                  483896 non-null  float64\n",
      " 23  ordernum_oneyear                  447831 non-null  float64\n",
      " 24  cr_pre                            660548 non-null  float64\n",
      " 25  avgprice                          457261 non-null  float64\n",
      " 26  lowestprice                       687931 non-null  float64\n",
      " 27  firstorder_bu                     376993 non-null  float64\n",
      " 28  customereval_pre2                 661312 non-null  float64\n",
      " 29  delta_price2                      437750 non-null  float64\n",
      " 30  commentnums_pre                   598368 non-null  float64\n",
      " 31  customer_value_profit             439123 non-null  float64\n",
      " 32  commentnums_pre2                  648457 non-null  float64\n",
      " 33  cancelrate_pre                    653015 non-null  float64\n",
      " 34  novoters_pre2                     657616 non-null  float64\n",
      " 35  novoters_pre                      648956 non-null  float64\n",
      " 36  ctrip_profits                     445187 non-null  float64\n",
      " 37  deltaprice_pre2_t1                543180 non-null  float64\n",
      " 38  lowestprice_pre                   659689 non-null  float64\n",
      " 39  uv_pre                            660548 non-null  float64\n",
      " 40  uv_pre2                           661189 non-null  float64\n",
      " 41  lowestprice_pre2                  660664 non-null  float64\n",
      " 42  lasthtlordergap                   447831 non-null  float64\n",
      " 43  businessrate_pre2                 602960 non-null  float64\n",
      " 44  cityuvs                           682274 non-null  float64\n",
      " 45  cityorders                        651263 non-null  float64\n",
      " 46  lastpvgap                         592818 non-null  float64\n",
      " 47  cr                                457896 non-null  float64\n",
      " 48  sid                               689945 non-null  int64  \n",
      " 49  visitnum_oneyear                  592910 non-null  float64\n",
      " 50  h                                 689945 non-null  int64  \n",
      "dtypes: float64(44), int64(5), object(2)\n",
      "memory usage: 268.5+ MB\n"
     ]
    },
    {
     "data": {
      "text/html": [
       "<div>\n",
       "<style scoped>\n",
       "    .dataframe tbody tr th:only-of-type {\n",
       "        vertical-align: middle;\n",
       "    }\n",
       "\n",
       "    .dataframe tbody tr th {\n",
       "        vertical-align: top;\n",
       "    }\n",
       "\n",
       "    .dataframe thead th {\n",
       "        text-align: right;\n",
       "    }\n",
       "</style>\n",
       "<table border=\"1\" class=\"dataframe\">\n",
       "  <thead>\n",
       "    <tr style=\"text-align: right;\">\n",
       "      <th></th>\n",
       "      <th>label</th>\n",
       "      <th>sampleid</th>\n",
       "      <th>d</th>\n",
       "      <th>arrival</th>\n",
       "      <th>iforderpv_24h</th>\n",
       "      <th>decisionhabit_user</th>\n",
       "      <th>historyvisit_7ordernum</th>\n",
       "      <th>historyvisit_totalordernum</th>\n",
       "      <th>hotelcr</th>\n",
       "      <th>ordercanceledprecent</th>\n",
       "      <th>landhalfhours</th>\n",
       "      <th>ordercanncelednum</th>\n",
       "      <th>commentnums</th>\n",
       "      <th>starprefer</th>\n",
       "      <th>novoters</th>\n",
       "      <th>consuming_capacity</th>\n",
       "      <th>historyvisit_avghotelnum</th>\n",
       "      <th>cancelrate</th>\n",
       "      <th>historyvisit_visit_detailpagenum</th>\n",
       "      <th>delta_price1</th>\n",
       "      <th>price_sensitive</th>\n",
       "      <th>hoteluv</th>\n",
       "      <th>businessrate_pre</th>\n",
       "      <th>ordernum_oneyear</th>\n",
       "      <th>cr_pre</th>\n",
       "      <th>avgprice</th>\n",
       "      <th>lowestprice</th>\n",
       "      <th>firstorder_bu</th>\n",
       "      <th>customereval_pre2</th>\n",
       "      <th>delta_price2</th>\n",
       "      <th>commentnums_pre</th>\n",
       "      <th>customer_value_profit</th>\n",
       "      <th>commentnums_pre2</th>\n",
       "      <th>cancelrate_pre</th>\n",
       "      <th>novoters_pre2</th>\n",
       "      <th>novoters_pre</th>\n",
       "      <th>ctrip_profits</th>\n",
       "      <th>deltaprice_pre2_t1</th>\n",
       "      <th>lowestprice_pre</th>\n",
       "      <th>uv_pre</th>\n",
       "      <th>uv_pre2</th>\n",
       "      <th>lowestprice_pre2</th>\n",
       "      <th>lasthtlordergap</th>\n",
       "      <th>businessrate_pre2</th>\n",
       "      <th>cityuvs</th>\n",
       "      <th>cityorders</th>\n",
       "      <th>lastpvgap</th>\n",
       "      <th>cr</th>\n",
       "      <th>sid</th>\n",
       "      <th>visitnum_oneyear</th>\n",
       "      <th>h</th>\n",
       "    </tr>\n",
       "  </thead>\n",
       "  <tbody>\n",
       "    <tr>\n",
       "      <th>317525</th>\n",
       "      <td>0</td>\n",
       "      <td>553886</td>\n",
       "      <td>2016-05-19</td>\n",
       "      <td>2016-05-20</td>\n",
       "      <td>0</td>\n",
       "      <td>2.00</td>\n",
       "      <td>nan</td>\n",
       "      <td>6.00</td>\n",
       "      <td>1.03</td>\n",
       "      <td>0.17</td>\n",
       "      <td>nan</td>\n",
       "      <td>2.00</td>\n",
       "      <td>nan</td>\n",
       "      <td>85.50</td>\n",
       "      <td>131.00</td>\n",
       "      <td>38.00</td>\n",
       "      <td>1.90</td>\n",
       "      <td>729.00</td>\n",
       "      <td>3.00</td>\n",
       "      <td>nan</td>\n",
       "      <td>11.00</td>\n",
       "      <td>110.55</td>\n",
       "      <td>nan</td>\n",
       "      <td>6.00</td>\n",
       "      <td>nan</td>\n",
       "      <td>361.00</td>\n",
       "      <td>469.00</td>\n",
       "      <td>nan</td>\n",
       "      <td>nan</td>\n",
       "      <td>nan</td>\n",
       "      <td>nan</td>\n",
       "      <td>0.52</td>\n",
       "      <td>nan</td>\n",
       "      <td>nan</td>\n",
       "      <td>nan</td>\n",
       "      <td>nan</td>\n",
       "      <td>1.71</td>\n",
       "      <td>nan</td>\n",
       "      <td>nan</td>\n",
       "      <td>nan</td>\n",
       "      <td>nan</td>\n",
       "      <td>nan</td>\n",
       "      <td>10879.00</td>\n",
       "      <td>nan</td>\n",
       "      <td>0.87</td>\n",
       "      <td>0.08</td>\n",
       "      <td>3612.00</td>\n",
       "      <td>1.33</td>\n",
       "      <td>38</td>\n",
       "      <td>747.00</td>\n",
       "      <td>11</td>\n",
       "    </tr>\n",
       "    <tr>\n",
       "      <th>222850</th>\n",
       "      <td>0</td>\n",
       "      <td>396242</td>\n",
       "      <td>2016-05-15</td>\n",
       "      <td>2016-05-21</td>\n",
       "      <td>1</td>\n",
       "      <td>1.00</td>\n",
       "      <td>nan</td>\n",
       "      <td>17.00</td>\n",
       "      <td>1.02</td>\n",
       "      <td>0.02</td>\n",
       "      <td>2.00</td>\n",
       "      <td>5.00</td>\n",
       "      <td>33.00</td>\n",
       "      <td>60.00</td>\n",
       "      <td>86.00</td>\n",
       "      <td>31.00</td>\n",
       "      <td>1.00</td>\n",
       "      <td>133.00</td>\n",
       "      <td>nan</td>\n",
       "      <td>-69.00</td>\n",
       "      <td>22.00</td>\n",
       "      <td>28.36</td>\n",
       "      <td>0.12</td>\n",
       "      <td>17.00</td>\n",
       "      <td>1.02</td>\n",
       "      <td>311.00</td>\n",
       "      <td>315.00</td>\n",
       "      <td>12.00</td>\n",
       "      <td>1.70</td>\n",
       "      <td>-148.00</td>\n",
       "      <td>218.00</td>\n",
       "      <td>2.67</td>\n",
       "      <td>693.00</td>\n",
       "      <td>0.41</td>\n",
       "      <td>976.00</td>\n",
       "      <td>245.00</td>\n",
       "      <td>4.79</td>\n",
       "      <td>10.00</td>\n",
       "      <td>380.00</td>\n",
       "      <td>118.22</td>\n",
       "      <td>96.72</td>\n",
       "      <td>459.00</td>\n",
       "      <td>79332.00</td>\n",
       "      <td>0.07</td>\n",
       "      <td>5.48</td>\n",
       "      <td>0.56</td>\n",
       "      <td>2039.00</td>\n",
       "      <td>1.38</td>\n",
       "      <td>312</td>\n",
       "      <td>1911.00</td>\n",
       "      <td>15</td>\n",
       "    </tr>\n",
       "    <tr>\n",
       "      <th>527418</th>\n",
       "      <td>0</td>\n",
       "      <td>904138</td>\n",
       "      <td>2016-05-17</td>\n",
       "      <td>2016-05-17</td>\n",
       "      <td>0</td>\n",
       "      <td>nan</td>\n",
       "      <td>nan</td>\n",
       "      <td>nan</td>\n",
       "      <td>1.02</td>\n",
       "      <td>nan</td>\n",
       "      <td>0.00</td>\n",
       "      <td>nan</td>\n",
       "      <td>80.00</td>\n",
       "      <td>nan</td>\n",
       "      <td>127.00</td>\n",
       "      <td>nan</td>\n",
       "      <td>nan</td>\n",
       "      <td>16.00</td>\n",
       "      <td>nan</td>\n",
       "      <td>nan</td>\n",
       "      <td>nan</td>\n",
       "      <td>1.19</td>\n",
       "      <td>nan</td>\n",
       "      <td>nan</td>\n",
       "      <td>1.06</td>\n",
       "      <td>nan</td>\n",
       "      <td>77.00</td>\n",
       "      <td>nan</td>\n",
       "      <td>2.00</td>\n",
       "      <td>nan</td>\n",
       "      <td>73.00</td>\n",
       "      <td>nan</td>\n",
       "      <td>277.00</td>\n",
       "      <td>0.38</td>\n",
       "      <td>329.00</td>\n",
       "      <td>91.00</td>\n",
       "      <td>nan</td>\n",
       "      <td>9.00</td>\n",
       "      <td>32.00</td>\n",
       "      <td>1.97</td>\n",
       "      <td>16.57</td>\n",
       "      <td>149.00</td>\n",
       "      <td>nan</td>\n",
       "      <td>0.04</td>\n",
       "      <td>1.41</td>\n",
       "      <td>0.24</td>\n",
       "      <td>nan</td>\n",
       "      <td>nan</td>\n",
       "      <td>6</td>\n",
       "      <td>nan</td>\n",
       "      <td>23</td>\n",
       "    </tr>\n",
       "    <tr>\n",
       "      <th>172256</th>\n",
       "      <td>1</td>\n",
       "      <td>311941</td>\n",
       "      <td>2016-05-20</td>\n",
       "      <td>2016-05-20</td>\n",
       "      <td>0</td>\n",
       "      <td>1.00</td>\n",
       "      <td>nan</td>\n",
       "      <td>1.00</td>\n",
       "      <td>1.04</td>\n",
       "      <td>0.00</td>\n",
       "      <td>0.00</td>\n",
       "      <td>0.00</td>\n",
       "      <td>14.00</td>\n",
       "      <td>80.00</td>\n",
       "      <td>88.00</td>\n",
       "      <td>50.00</td>\n",
       "      <td>1.00</td>\n",
       "      <td>446.00</td>\n",
       "      <td>nan</td>\n",
       "      <td>188.00</td>\n",
       "      <td>36.00</td>\n",
       "      <td>52.44</td>\n",
       "      <td>0.06</td>\n",
       "      <td>1.00</td>\n",
       "      <td>1.04</td>\n",
       "      <td>620.00</td>\n",
       "      <td>353.00</td>\n",
       "      <td>nan</td>\n",
       "      <td>4.00</td>\n",
       "      <td>188.00</td>\n",
       "      <td>530.00</td>\n",
       "      <td>1.80</td>\n",
       "      <td>530.00</td>\n",
       "      <td>0.34</td>\n",
       "      <td>813.00</td>\n",
       "      <td>813.00</td>\n",
       "      <td>nan</td>\n",
       "      <td>0.00</td>\n",
       "      <td>432.00</td>\n",
       "      <td>20.68</td>\n",
       "      <td>20.68</td>\n",
       "      <td>432.00</td>\n",
       "      <td>23097.00</td>\n",
       "      <td>0.06</td>\n",
       "      <td>1.55</td>\n",
       "      <td>0.33</td>\n",
       "      <td>17971.00</td>\n",
       "      <td>1.17</td>\n",
       "      <td>35</td>\n",
       "      <td>1057.00</td>\n",
       "      <td>8</td>\n",
       "    </tr>\n",
       "    <tr>\n",
       "      <th>542574</th>\n",
       "      <td>1</td>\n",
       "      <td>929251</td>\n",
       "      <td>2016-05-21</td>\n",
       "      <td>2016-05-22</td>\n",
       "      <td>0</td>\n",
       "      <td>nan</td>\n",
       "      <td>nan</td>\n",
       "      <td>5.00</td>\n",
       "      <td>1.09</td>\n",
       "      <td>0.60</td>\n",
       "      <td>0.00</td>\n",
       "      <td>184.00</td>\n",
       "      <td>440.00</td>\n",
       "      <td>68.60</td>\n",
       "      <td>657.00</td>\n",
       "      <td>47.00</td>\n",
       "      <td>nan</td>\n",
       "      <td>852.00</td>\n",
       "      <td>nan</td>\n",
       "      <td>-43.00</td>\n",
       "      <td>55.00</td>\n",
       "      <td>35.32</td>\n",
       "      <td>0.68</td>\n",
       "      <td>5.00</td>\n",
       "      <td>1.07</td>\n",
       "      <td>495.00</td>\n",
       "      <td>80.00</td>\n",
       "      <td>nan</td>\n",
       "      <td>3.00</td>\n",
       "      <td>171.00</td>\n",
       "      <td>457.00</td>\n",
       "      <td>2.99</td>\n",
       "      <td>391.00</td>\n",
       "      <td>0.36</td>\n",
       "      <td>572.00</td>\n",
       "      <td>602.00</td>\n",
       "      <td>2.99</td>\n",
       "      <td>14.00</td>\n",
       "      <td>538.00</td>\n",
       "      <td>28.84</td>\n",
       "      <td>40.90</td>\n",
       "      <td>324.00</td>\n",
       "      <td>15214.00</td>\n",
       "      <td>0.64</td>\n",
       "      <td>20.89</td>\n",
       "      <td>4.15</td>\n",
       "      <td>13084.00</td>\n",
       "      <td>nan</td>\n",
       "      <td>2</td>\n",
       "      <td>27.00</td>\n",
       "      <td>17</td>\n",
       "    </tr>\n",
       "    <tr>\n",
       "      <th>526617</th>\n",
       "      <td>1</td>\n",
       "      <td>902807</td>\n",
       "      <td>2016-05-15</td>\n",
       "      <td>2016-05-15</td>\n",
       "      <td>0</td>\n",
       "      <td>14.00</td>\n",
       "      <td>1.00</td>\n",
       "      <td>2.00</td>\n",
       "      <td>1.03</td>\n",
       "      <td>0.50</td>\n",
       "      <td>nan</td>\n",
       "      <td>1.00</td>\n",
       "      <td>1977.00</td>\n",
       "      <td>40.00</td>\n",
       "      <td>2768.00</td>\n",
       "      <td>13.00</td>\n",
       "      <td>14.00</td>\n",
       "      <td>1918.00</td>\n",
       "      <td>61.00</td>\n",
       "      <td>nan</td>\n",
       "      <td>0.00</td>\n",
       "      <td>335.03</td>\n",
       "      <td>nan</td>\n",
       "      <td>2.00</td>\n",
       "      <td>nan</td>\n",
       "      <td>139.00</td>\n",
       "      <td>1317.00</td>\n",
       "      <td>13.00</td>\n",
       "      <td>nan</td>\n",
       "      <td>nan</td>\n",
       "      <td>nan</td>\n",
       "      <td>0.34</td>\n",
       "      <td>nan</td>\n",
       "      <td>nan</td>\n",
       "      <td>nan</td>\n",
       "      <td>nan</td>\n",
       "      <td>0.60</td>\n",
       "      <td>nan</td>\n",
       "      <td>nan</td>\n",
       "      <td>nan</td>\n",
       "      <td>nan</td>\n",
       "      <td>nan</td>\n",
       "      <td>762.00</td>\n",
       "      <td>nan</td>\n",
       "      <td>26.63</td>\n",
       "      <td>4.11</td>\n",
       "      <td>345.00</td>\n",
       "      <td>1.67</td>\n",
       "      <td>29</td>\n",
       "      <td>519.00</td>\n",
       "      <td>14</td>\n",
       "    </tr>\n",
       "    <tr>\n",
       "      <th>536723</th>\n",
       "      <td>0</td>\n",
       "      <td>919619</td>\n",
       "      <td>2016-05-18</td>\n",
       "      <td>2016-05-18</td>\n",
       "      <td>0</td>\n",
       "      <td>nan</td>\n",
       "      <td>nan</td>\n",
       "      <td>nan</td>\n",
       "      <td>1.09</td>\n",
       "      <td>nan</td>\n",
       "      <td>0.00</td>\n",
       "      <td>nan</td>\n",
       "      <td>630.00</td>\n",
       "      <td>nan</td>\n",
       "      <td>1020.00</td>\n",
       "      <td>nan</td>\n",
       "      <td>nan</td>\n",
       "      <td>488.00</td>\n",
       "      <td>nan</td>\n",
       "      <td>nan</td>\n",
       "      <td>nan</td>\n",
       "      <td>20.49</td>\n",
       "      <td>0.56</td>\n",
       "      <td>nan</td>\n",
       "      <td>1.07</td>\n",
       "      <td>nan</td>\n",
       "      <td>149.00</td>\n",
       "      <td>12.00</td>\n",
       "      <td>2.20</td>\n",
       "      <td>nan</td>\n",
       "      <td>90.00</td>\n",
       "      <td>nan</td>\n",
       "      <td>109.00</td>\n",
       "      <td>0.27</td>\n",
       "      <td>194.00</td>\n",
       "      <td>167.00</td>\n",
       "      <td>0.68</td>\n",
       "      <td>2.00</td>\n",
       "      <td>110.00</td>\n",
       "      <td>14.07</td>\n",
       "      <td>8.48</td>\n",
       "      <td>118.00</td>\n",
       "      <td>nan</td>\n",
       "      <td>0.53</td>\n",
       "      <td>2.44</td>\n",
       "      <td>0.56</td>\n",
       "      <td>17596.00</td>\n",
       "      <td>1.00</td>\n",
       "      <td>50</td>\n",
       "      <td>1203.00</td>\n",
       "      <td>20</td>\n",
       "    </tr>\n",
       "    <tr>\n",
       "      <th>613865</th>\n",
       "      <td>1</td>\n",
       "      <td>1047954</td>\n",
       "      <td>2016-05-15</td>\n",
       "      <td>2016-05-15</td>\n",
       "      <td>0</td>\n",
       "      <td>nan</td>\n",
       "      <td>nan</td>\n",
       "      <td>nan</td>\n",
       "      <td>1.09</td>\n",
       "      <td>nan</td>\n",
       "      <td>4.00</td>\n",
       "      <td>nan</td>\n",
       "      <td>446.00</td>\n",
       "      <td>60.00</td>\n",
       "      <td>617.00</td>\n",
       "      <td>44.00</td>\n",
       "      <td>nan</td>\n",
       "      <td>545.00</td>\n",
       "      <td>nan</td>\n",
       "      <td>120.00</td>\n",
       "      <td>83.00</td>\n",
       "      <td>18.99</td>\n",
       "      <td>0.37</td>\n",
       "      <td>nan</td>\n",
       "      <td>1.04</td>\n",
       "      <td>408.00</td>\n",
       "      <td>nan</td>\n",
       "      <td>nan</td>\n",
       "      <td>2.20</td>\n",
       "      <td>194.00</td>\n",
       "      <td>211.00</td>\n",
       "      <td>2.72</td>\n",
       "      <td>1083.00</td>\n",
       "      <td>0.21</td>\n",
       "      <td>1661.00</td>\n",
       "      <td>409.00</td>\n",
       "      <td>2.95</td>\n",
       "      <td>-11.00</td>\n",
       "      <td>288.00</td>\n",
       "      <td>30.09</td>\n",
       "      <td>97.75</td>\n",
       "      <td>214.00</td>\n",
       "      <td>nan</td>\n",
       "      <td>0.31</td>\n",
       "      <td>38.96</td>\n",
       "      <td>9.16</td>\n",
       "      <td>22721.00</td>\n",
       "      <td>nan</td>\n",
       "      <td>7</td>\n",
       "      <td>116.00</td>\n",
       "      <td>13</td>\n",
       "    </tr>\n",
       "    <tr>\n",
       "      <th>264110</th>\n",
       "      <td>0</td>\n",
       "      <td>465213</td>\n",
       "      <td>2016-05-21</td>\n",
       "      <td>2016-06-04</td>\n",
       "      <td>0</td>\n",
       "      <td>nan</td>\n",
       "      <td>nan</td>\n",
       "      <td>2.00</td>\n",
       "      <td>1.06</td>\n",
       "      <td>0.00</td>\n",
       "      <td>0.00</td>\n",
       "      <td>0.00</td>\n",
       "      <td>nan</td>\n",
       "      <td>100.00</td>\n",
       "      <td>11.00</td>\n",
       "      <td>100.00</td>\n",
       "      <td>nan</td>\n",
       "      <td>10.00</td>\n",
       "      <td>nan</td>\n",
       "      <td>1010.00</td>\n",
       "      <td>0.00</td>\n",
       "      <td>0.91</td>\n",
       "      <td>nan</td>\n",
       "      <td>2.00</td>\n",
       "      <td>1.03</td>\n",
       "      <td>1308.00</td>\n",
       "      <td>358.00</td>\n",
       "      <td>10.00</td>\n",
       "      <td>2.20</td>\n",
       "      <td>1009.00</td>\n",
       "      <td>37.00</td>\n",
       "      <td>1.16</td>\n",
       "      <td>58.00</td>\n",
       "      <td>0.54</td>\n",
       "      <td>42.00</td>\n",
       "      <td>28.00</td>\n",
       "      <td>8.23</td>\n",
       "      <td>nan</td>\n",
       "      <td>298.00</td>\n",
       "      <td>4.83</td>\n",
       "      <td>5.59</td>\n",
       "      <td>298.00</td>\n",
       "      <td>390834.00</td>\n",
       "      <td>0.07</td>\n",
       "      <td>0.21</td>\n",
       "      <td>0.03</td>\n",
       "      <td>141430.00</td>\n",
       "      <td>nan</td>\n",
       "      <td>3</td>\n",
       "      <td>11.00</td>\n",
       "      <td>20</td>\n",
       "    </tr>\n",
       "    <tr>\n",
       "      <th>683384</th>\n",
       "      <td>0</td>\n",
       "      <td>2227436</td>\n",
       "      <td>2016-05-16</td>\n",
       "      <td>2016-05-16</td>\n",
       "      <td>0</td>\n",
       "      <td>1.00</td>\n",
       "      <td>nan</td>\n",
       "      <td>2.00</td>\n",
       "      <td>1.02</td>\n",
       "      <td>0.00</td>\n",
       "      <td>0.00</td>\n",
       "      <td>0.00</td>\n",
       "      <td>1490.00</td>\n",
       "      <td>80.00</td>\n",
       "      <td>2130.00</td>\n",
       "      <td>28.00</td>\n",
       "      <td>1.00</td>\n",
       "      <td>577.00</td>\n",
       "      <td>3.00</td>\n",
       "      <td>511.00</td>\n",
       "      <td>18.00</td>\n",
       "      <td>129.47</td>\n",
       "      <td>0.21</td>\n",
       "      <td>2.00</td>\n",
       "      <td>1.05</td>\n",
       "      <td>568.00</td>\n",
       "      <td>70.00</td>\n",
       "      <td>13.00</td>\n",
       "      <td>4.20</td>\n",
       "      <td>280.00</td>\n",
       "      <td>1625.00</td>\n",
       "      <td>0.68</td>\n",
       "      <td>2164.00</td>\n",
       "      <td>0.10</td>\n",
       "      <td>3280.00</td>\n",
       "      <td>3340.00</td>\n",
       "      <td>0.67</td>\n",
       "      <td>48.00</td>\n",
       "      <td>57.00</td>\n",
       "      <td>161.38</td>\n",
       "      <td>150.30</td>\n",
       "      <td>288.00</td>\n",
       "      <td>393211.00</td>\n",
       "      <td>0.23</td>\n",
       "      <td>11.46</td>\n",
       "      <td>2.59</td>\n",
       "      <td>4659.00</td>\n",
       "      <td>1.00</td>\n",
       "      <td>67</td>\n",
       "      <td>267.00</td>\n",
       "      <td>14</td>\n",
       "    </tr>\n",
       "  </tbody>\n",
       "</table>\n",
       "</div>"
      ],
      "text/plain": [
       "        label  sampleid           d     arrival  iforderpv_24h  \\\n",
       "317525      0    553886  2016-05-19  2016-05-20              0   \n",
       "222850      0    396242  2016-05-15  2016-05-21              1   \n",
       "527418      0    904138  2016-05-17  2016-05-17              0   \n",
       "172256      1    311941  2016-05-20  2016-05-20              0   \n",
       "542574      1    929251  2016-05-21  2016-05-22              0   \n",
       "526617      1    902807  2016-05-15  2016-05-15              0   \n",
       "536723      0    919619  2016-05-18  2016-05-18              0   \n",
       "613865      1   1047954  2016-05-15  2016-05-15              0   \n",
       "264110      0    465213  2016-05-21  2016-06-04              0   \n",
       "683384      0   2227436  2016-05-16  2016-05-16              0   \n",
       "\n",
       "        decisionhabit_user  historyvisit_7ordernum  \\\n",
       "317525                2.00                     nan   \n",
       "222850                1.00                     nan   \n",
       "527418                 nan                     nan   \n",
       "172256                1.00                     nan   \n",
       "542574                 nan                     nan   \n",
       "526617               14.00                    1.00   \n",
       "536723                 nan                     nan   \n",
       "613865                 nan                     nan   \n",
       "264110                 nan                     nan   \n",
       "683384                1.00                     nan   \n",
       "\n",
       "        historyvisit_totalordernum  hotelcr  ordercanceledprecent  \\\n",
       "317525                        6.00     1.03                  0.17   \n",
       "222850                       17.00     1.02                  0.02   \n",
       "527418                         nan     1.02                   nan   \n",
       "172256                        1.00     1.04                  0.00   \n",
       "542574                        5.00     1.09                  0.60   \n",
       "526617                        2.00     1.03                  0.50   \n",
       "536723                         nan     1.09                   nan   \n",
       "613865                         nan     1.09                   nan   \n",
       "264110                        2.00     1.06                  0.00   \n",
       "683384                        2.00     1.02                  0.00   \n",
       "\n",
       "        landhalfhours  ordercanncelednum  commentnums  starprefer  novoters  \\\n",
       "317525            nan               2.00          nan       85.50    131.00   \n",
       "222850           2.00               5.00        33.00       60.00     86.00   \n",
       "527418           0.00                nan        80.00         nan    127.00   \n",
       "172256           0.00               0.00        14.00       80.00     88.00   \n",
       "542574           0.00             184.00       440.00       68.60    657.00   \n",
       "526617            nan               1.00      1977.00       40.00   2768.00   \n",
       "536723           0.00                nan       630.00         nan   1020.00   \n",
       "613865           4.00                nan       446.00       60.00    617.00   \n",
       "264110           0.00               0.00          nan      100.00     11.00   \n",
       "683384           0.00               0.00      1490.00       80.00   2130.00   \n",
       "\n",
       "        consuming_capacity  historyvisit_avghotelnum  cancelrate  \\\n",
       "317525               38.00                      1.90      729.00   \n",
       "222850               31.00                      1.00      133.00   \n",
       "527418                 nan                       nan       16.00   \n",
       "172256               50.00                      1.00      446.00   \n",
       "542574               47.00                       nan      852.00   \n",
       "526617               13.00                     14.00     1918.00   \n",
       "536723                 nan                       nan      488.00   \n",
       "613865               44.00                       nan      545.00   \n",
       "264110              100.00                       nan       10.00   \n",
       "683384               28.00                      1.00      577.00   \n",
       "\n",
       "        historyvisit_visit_detailpagenum  delta_price1  price_sensitive  \\\n",
       "317525                              3.00           nan            11.00   \n",
       "222850                               nan        -69.00            22.00   \n",
       "527418                               nan           nan              nan   \n",
       "172256                               nan        188.00            36.00   \n",
       "542574                               nan        -43.00            55.00   \n",
       "526617                             61.00           nan             0.00   \n",
       "536723                               nan           nan              nan   \n",
       "613865                               nan        120.00            83.00   \n",
       "264110                               nan       1010.00             0.00   \n",
       "683384                              3.00        511.00            18.00   \n",
       "\n",
       "        hoteluv  businessrate_pre  ordernum_oneyear  cr_pre  avgprice  \\\n",
       "317525   110.55               nan              6.00     nan    361.00   \n",
       "222850    28.36              0.12             17.00    1.02    311.00   \n",
       "527418     1.19               nan               nan    1.06       nan   \n",
       "172256    52.44              0.06              1.00    1.04    620.00   \n",
       "542574    35.32              0.68              5.00    1.07    495.00   \n",
       "526617   335.03               nan              2.00     nan    139.00   \n",
       "536723    20.49              0.56               nan    1.07       nan   \n",
       "613865    18.99              0.37               nan    1.04    408.00   \n",
       "264110     0.91               nan              2.00    1.03   1308.00   \n",
       "683384   129.47              0.21              2.00    1.05    568.00   \n",
       "\n",
       "        lowestprice  firstorder_bu  customereval_pre2  delta_price2  \\\n",
       "317525       469.00            nan                nan           nan   \n",
       "222850       315.00          12.00               1.70       -148.00   \n",
       "527418        77.00            nan               2.00           nan   \n",
       "172256       353.00            nan               4.00        188.00   \n",
       "542574        80.00            nan               3.00        171.00   \n",
       "526617      1317.00          13.00                nan           nan   \n",
       "536723       149.00          12.00               2.20           nan   \n",
       "613865          nan            nan               2.20        194.00   \n",
       "264110       358.00          10.00               2.20       1009.00   \n",
       "683384        70.00          13.00               4.20        280.00   \n",
       "\n",
       "        commentnums_pre  customer_value_profit  commentnums_pre2  \\\n",
       "317525              nan                   0.52               nan   \n",
       "222850           218.00                   2.67            693.00   \n",
       "527418            73.00                    nan            277.00   \n",
       "172256           530.00                   1.80            530.00   \n",
       "542574           457.00                   2.99            391.00   \n",
       "526617              nan                   0.34               nan   \n",
       "536723            90.00                    nan            109.00   \n",
       "613865           211.00                   2.72           1083.00   \n",
       "264110            37.00                   1.16             58.00   \n",
       "683384          1625.00                   0.68           2164.00   \n",
       "\n",
       "        cancelrate_pre  novoters_pre2  novoters_pre  ctrip_profits  \\\n",
       "317525             nan            nan           nan           1.71   \n",
       "222850            0.41         976.00        245.00           4.79   \n",
       "527418            0.38         329.00         91.00            nan   \n",
       "172256            0.34         813.00        813.00            nan   \n",
       "542574            0.36         572.00        602.00           2.99   \n",
       "526617             nan            nan           nan           0.60   \n",
       "536723            0.27         194.00        167.00           0.68   \n",
       "613865            0.21        1661.00        409.00           2.95   \n",
       "264110            0.54          42.00         28.00           8.23   \n",
       "683384            0.10        3280.00       3340.00           0.67   \n",
       "\n",
       "        deltaprice_pre2_t1  lowestprice_pre  uv_pre  uv_pre2  \\\n",
       "317525                 nan              nan     nan      nan   \n",
       "222850               10.00           380.00  118.22    96.72   \n",
       "527418                9.00            32.00    1.97    16.57   \n",
       "172256                0.00           432.00   20.68    20.68   \n",
       "542574               14.00           538.00   28.84    40.90   \n",
       "526617                 nan              nan     nan      nan   \n",
       "536723                2.00           110.00   14.07     8.48   \n",
       "613865              -11.00           288.00   30.09    97.75   \n",
       "264110                 nan           298.00    4.83     5.59   \n",
       "683384               48.00            57.00  161.38   150.30   \n",
       "\n",
       "        lowestprice_pre2  lasthtlordergap  businessrate_pre2  cityuvs  \\\n",
       "317525               nan         10879.00                nan     0.87   \n",
       "222850            459.00         79332.00               0.07     5.48   \n",
       "527418            149.00              nan               0.04     1.41   \n",
       "172256            432.00         23097.00               0.06     1.55   \n",
       "542574            324.00         15214.00               0.64    20.89   \n",
       "526617               nan           762.00                nan    26.63   \n",
       "536723            118.00              nan               0.53     2.44   \n",
       "613865            214.00              nan               0.31    38.96   \n",
       "264110            298.00        390834.00               0.07     0.21   \n",
       "683384            288.00        393211.00               0.23    11.46   \n",
       "\n",
       "        cityorders  lastpvgap   cr  sid  visitnum_oneyear   h  \n",
       "317525        0.08    3612.00 1.33   38            747.00  11  \n",
       "222850        0.56    2039.00 1.38  312           1911.00  15  \n",
       "527418        0.24        nan  nan    6               nan  23  \n",
       "172256        0.33   17971.00 1.17   35           1057.00   8  \n",
       "542574        4.15   13084.00  nan    2             27.00  17  \n",
       "526617        4.11     345.00 1.67   29            519.00  14  \n",
       "536723        0.56   17596.00 1.00   50           1203.00  20  \n",
       "613865        9.16   22721.00  nan    7            116.00  13  \n",
       "264110        0.03  141430.00  nan    3             11.00  20  \n",
       "683384        2.59    4659.00 1.00   67            267.00  14  "
      ]
     },
     "execution_count": 3,
     "metadata": {},
     "output_type": "execute_result"
    }
   ],
   "source": [
    "data1.info()\n",
    "data1.sample(10)\n",
    "\n",
    "# data1['label'].value_counts()\n",
    "\n",
    "# label分布\n",
    "# 0    500588\n",
    "# 1    189357"
   ]
  },
  {
   "cell_type": "code",
   "execution_count": 4,
   "metadata": {
    "ExecuteTime": {
     "end_time": "2021-03-08T02:55:46.212112Z",
     "start_time": "2021-03-08T02:55:44.272216Z"
    }
   },
   "outputs": [],
   "source": [
    "data1_des = data1.describe()\n",
    "# data1_des.to_excel('data1_des.xlsx',sheet_name='raw_des')\n"
   ]
  },
  {
   "cell_type": "markdown",
   "metadata": {},
   "source": [
    "## 数据预处理"
   ]
  },
  {
   "cell_type": "markdown",
   "metadata": {
    "ExecuteTime": {
     "end_time": "2021-03-06T22:32:16.610095Z",
     "start_time": "2021-03-06T22:32:16.586109Z"
    }
   },
   "source": [
    "### 新增特征"
   ]
  },
  {
   "cell_type": "code",
   "execution_count": 5,
   "metadata": {
    "ExecuteTime": {
     "end_time": "2021-03-08T02:55:46.503931Z",
     "start_time": "2021-03-08T02:55:46.214097Z"
    }
   },
   "outputs": [],
   "source": [
    "# 利用好两个日期列，生成新特征 days_pre：提前预定了几天\n",
    "\n",
    "data1['arrival'] = pd.to_datetime(data1['arrival'])\n",
    "data1['d'] = pd.to_datetime(data1['d'])\n",
    "data1['days_pre'] = (data1['arrival'] - data1['d']).dt.days\n"
   ]
  },
  {
   "cell_type": "markdown",
   "metadata": {},
   "source": [
    "### 删除无效特征"
   ]
  },
  {
   "cell_type": "code",
   "execution_count": 6,
   "metadata": {
    "ExecuteTime": {
     "end_time": "2021-03-08T02:55:46.751788Z",
     "start_time": "2021-03-08T02:55:46.506929Z"
    }
   },
   "outputs": [],
   "source": [
    "data1.drop(['arrival', 'd', 'sampleid'], axis = 1, inplace = True)"
   ]
  },
  {
   "cell_type": "markdown",
   "metadata": {},
   "source": [
    "### 异常值处理 "
   ]
  },
  {
   "cell_type": "code",
   "execution_count": 7,
   "metadata": {
    "ExecuteTime": {
     "end_time": "2021-03-08T02:55:47.301471Z",
     "start_time": "2021-03-08T02:55:46.753786Z"
    },
    "scrolled": false
   },
   "outputs": [
    {
     "data": {
      "text/plain": [
       "delta_price1            -99879.00\n",
       "lowestprice                 -3.00\n",
       "delta_price2            -43344.00\n",
       "customer_value_profit      -24.07\n",
       "ctrip_profits              -44.31\n",
       "deltaprice_pre2_t1       -2296.00\n",
       "dtype: float64"
      ]
     },
     "execution_count": 7,
     "metadata": {},
     "output_type": "execute_result"
    }
   ],
   "source": [
    "# 负值处理\n",
    "data1.min()[data1.min()<0]"
   ]
  },
  {
   "cell_type": "code",
   "execution_count": 8,
   "metadata": {
    "ExecuteTime": {
     "end_time": "2021-03-08T02:55:47.313467Z",
     "start_time": "2021-03-08T02:55:47.306469Z"
    }
   },
   "outputs": [],
   "source": [
    "# 观察异常值分布\n",
    "\n",
    "# rows = 2 \n",
    "# cols = 3\n",
    "# negs = ['delta_price1', 'lowestprice', 'delta_price2', 'customer_value_profit', 'ctrip_profits','deltaprice_pre2_t1']\n",
    "# fig, ax = plt.subplots(nrows=rows, ncols=cols, figsize = (12, 4))\n",
    "# index = 0\n",
    "\n",
    "# for i in range(rows):\n",
    "#     for j in range(cols):\n",
    "#         sns.distplot(data1.loc[:, negs[index]], ax=ax[i][j])\n",
    "#         index = index + 1\n",
    "\n",
    "# plt.tight_layout()"
   ]
  },
  {
   "cell_type": "code",
   "execution_count": 9,
   "metadata": {
    "ExecuteTime": {
     "end_time": "2021-03-08T02:55:47.459382Z",
     "start_time": "2021-03-08T02:55:47.318462Z"
    }
   },
   "outputs": [],
   "source": [
    "neg1=['delta_price1','delta_price2','lowestprice']\n",
    "neg2=['customer_value_profit','ctrip_profits']\n",
    "for col in neg1:\n",
    "    data1.loc[data1[col]<0,col]=data1[col].median()  # 填充中位数\n",
    "for col in neg2:\n",
    "    data1.loc[data1[col]<0,col]=0  # 填充0"
   ]
  },
  {
   "cell_type": "markdown",
   "metadata": {},
   "source": [
    "### 缺失值处理 "
   ]
  },
  {
   "cell_type": "code",
   "execution_count": 10,
   "metadata": {
    "ExecuteTime": {
     "end_time": "2021-03-08T02:55:48.786629Z",
     "start_time": "2021-03-08T02:55:47.461379Z"
    }
   },
   "outputs": [
    {
     "data": {
      "image/png": "[encoded data removed]",
      "text/plain": [
       "<Figure size 1008x720 with 1 Axes>"
      ]
     },
     "metadata": {},
     "output_type": "display_data"
    }
   ],
   "source": [
    "# 缺失值情况可视化\n",
    "\n",
    "df = data1\n",
    "na_rate = (len(df)-df.count())/len(df)  # 缺失率计算\n",
    "a = na_rate.sort_values()\n",
    "a1 = pd.DataFrame(a)\n",
    "plt.style.use('bmh')\n",
    "plt.figure(figsize = (14,10))\n",
    "plt.barh(range(df.shape[1]),a1[0])\n",
    "plt.xlabel('na_rate')\n",
    "plt.xlim([0,1])\n",
    "plt.yticks(range(df.shape[1]),a1.index.values.tolist())\n",
    "for x,y in enumerate(a1[0]):\n",
    "    plt.text(y,x,'%.3f'%y, va='bottom')"
   ]
  },
  {
   "cell_type": "code",
   "execution_count": 11,
   "metadata": {
    "ExecuteTime": {
     "end_time": "2021-03-08T02:55:48.994506Z",
     "start_time": "2021-03-08T02:55:48.788614Z"
    },
    "code_folding": [],
    "scrolled": true
   },
   "outputs": [],
   "source": [
    "# 缺失率在80%以上的，如historyvisit_7ordernum，已经没有太多分析价值，直接去掉。\n",
    "\n",
    "data1.drop(['historyvisit_7ordernum'], axis=1, inplace=True)"
   ]
  },
  {
   "cell_type": "code",
   "execution_count": 12,
   "metadata": {
    "ExecuteTime": {
     "end_time": "2021-03-08T02:55:49.012485Z",
     "start_time": "2021-03-08T02:55:48.997495Z"
    }
   },
   "outputs": [],
   "source": [
    "# 数据分布可视化\n",
    "\n",
    "# rows = 7\n",
    "# cols = 7\n",
    "# fig, ax = plt.subplots(nrows=rows, ncols=cols, figsize = (25, 25))\n",
    "# index = 0\n",
    "\n",
    "# for i in range(rows):\n",
    "#     for j in range(cols):\n",
    "#         if index <= 47:\n",
    "#             sns.distplot(data1.iloc[:, index], ax=ax[i][j])\n",
    "#             index = index + 1\n",
    "\n",
    "# plt.tight_layout()"
   ]
  },
  {
   "cell_type": "code",
   "execution_count": 13,
   "metadata": {
    "ExecuteTime": {
     "end_time": "2021-03-08T02:55:50.055885Z",
     "start_time": "2021-03-08T02:55:49.017484Z"
    }
   },
   "outputs": [],
   "source": [
    "# 缺失值全部为数值型数据，结合各个特征的数据分布情况，这里用了平均值和中位数填充两种方式。\n",
    "# 对于近似正态分布的数据，采用平均值填充，而近似偏态分布的数据，以及其他数值型数据，全部采用中位数填充。\n",
    "\n",
    "fill_mean = ['businessrate_pre', 'businessrate_pre2', 'cancelrate_pre']\n",
    "for col in data1.columns:\n",
    "    if col in fill_mean:\n",
    "        fillvalue = data1[col].mean()\n",
    "        data1[col] = data1[col].fillna(fillvalue)\n",
    "    else:\n",
    "        fillvalue = data1[col].median()\n",
    "        data1[col] = data1[col].fillna(fillvalue)"
   ]
  },
  {
   "cell_type": "markdown",
   "metadata": {},
   "source": [
    "### 极值处理"
   ]
  },
  {
   "cell_type": "code",
   "execution_count": 14,
   "metadata": {
    "ExecuteTime": {
     "end_time": "2021-03-08T02:55:54.797153Z",
     "start_time": "2021-03-08T02:55:50.057883Z"
    }
   },
   "outputs": [],
   "source": [
    "# 有些特征明显有异常大和异常小的值,这里分别使用1%和99%分位数替换超过上下限的值.\n",
    "for i in data1.columns:\n",
    "    data1.loc[data1[i]<np.percentile(data1[i],1),i]=np.percentile(data1[i],1)\n",
    "    data1.loc[data1[i]>np.percentile(data1[i],99),i]=np.percentile(data1[i],99)"
   ]
  },
  {
   "cell_type": "code",
   "execution_count": 15,
   "metadata": {
    "ExecuteTime": {
     "end_time": "2021-03-08T02:55:56.447201Z",
     "start_time": "2021-03-08T02:55:54.799151Z"
    }
   },
   "outputs": [],
   "source": [
    "data1_des_cleaned = data1.describe()\n",
    "# data1_des_cleaned.to_excel('data1_des_cleaned.xlsx',sheet_name='raw_des_cleaned')"
   ]
  },
  {
   "cell_type": "markdown",
   "metadata": {},
   "source": [
    "## 探索性分析"
   ]
  },
  {
   "cell_type": "markdown",
   "metadata": {},
   "source": [
    "### 相关性分析 "
   ]
  },
  {
   "cell_type": "code",
   "execution_count": 16,
   "metadata": {
    "ExecuteTime": {
     "end_time": "2021-03-08T02:55:56.460195Z",
     "start_time": "2021-03-08T02:55:56.449201Z"
    }
   },
   "outputs": [],
   "source": [
    "# 用户特征的相关性分析\n",
    "# 用户特征提取\n",
    "user_features=['visitnum_oneyear','starprefer','sid','price_sensitive','ordernum_oneyear','ordercanncelednum','ordercanceledprecent','lastpvgap',\n",
    "               'lasthtlordergap','landhalfhours','iforderpv_24h','historyvisit_totalordernum','historyvisit_avghotelnum','h',\n",
    "               'delta_price2','delta_price1','decisionhabit_user','customer_value_profit','ctrip_profits','cr','consuming_capacity','avgprice']\n",
    "# 生成用户特征的相关性矩阵\n",
    "# corr_mat=data1[user_features].corr()\n",
    "\n",
    "# 绘制用户特征的相关性矩阵热度图\n",
    "# fig,ax = plt.subplots(figsize=(18, 12))\n",
    "# sns.heatmap(corr_mat, xticklabels=True, yticklabels=True, square=False, linewidths=.5, annot=True, cmap='Oranges')\n",
    "# plt.savefig('相关性分析 - 用户特征.jpg',dpi=400, bbox_inches='tight')\n",
    "# plt.show()"
   ]
  },
  {
   "cell_type": "code",
   "execution_count": 17,
   "metadata": {
    "ExecuteTime": {
     "end_time": "2021-03-08T02:55:56.497176Z",
     "start_time": "2021-03-08T02:55:56.469190Z"
    }
   },
   "outputs": [],
   "source": [
    "# 酒店信息特征的相关性分析\n",
    "hotel_features=['hotelcr','hoteluv','commentnums','novoters','cancelrate','lowestprice','cr_pre','uv_pre','uv_pre2','businessrate_pre',\n",
    "                'businessrate_pre2','customereval_pre2','commentnums_pre','commentnums_pre2','cancelrate_pre','novoters_pre','novoters_pre2',\n",
    "                'deltaprice_pre2_t1','lowestprice_pre','lowestprice_pre2','firstorder_bu','historyvisit_visit_detailpagenum']\n",
    "# 生成酒店特征的相关性矩阵\n",
    "# corr_mat1=data1[hotel_features].corr()\n",
    "\n",
    "# fig,ax = plt.subplots(figsize=(18, 12))\n",
    "# sns.heatmap(corr_mat1, xticklabels=True, yticklabels=True, square=False, linewidths=.5, annot=True, cmap='Oranges_r')\n",
    "# plt.savefig('相关性分析 - 酒店特征.jpg',dpi=400, bbox_inches='tight')\n",
    "# plt.show()"
   ]
  },
  {
   "cell_type": "markdown",
   "metadata": {},
   "source": [
    "### 降维"
   ]
  },
  {
   "cell_type": "code",
   "execution_count": 18,
   "metadata": {
    "ExecuteTime": {
     "end_time": "2021-03-08T02:56:04.757414Z",
     "start_time": "2021-03-08T02:55:56.500172Z"
    }
   },
   "outputs": [],
   "source": [
    "# 高相关性特征分类\n",
    "\n",
    "order_nums = ['historyvisit_totalordernum', 'ordernum_oneyear']  # 近一年用户历史订单数，用户年订单数\n",
    "decision_habit = ['decisionhabit_user', 'historyvisit_avghotelnum']  # 用户决策习惯变量，近三个月用户历史日均访问酒店数\n",
    "customer_value = ['ctrip_profits', 'customer_value_profit']  # 客户价值， 客户价值_近一年\n",
    "price_prefer = ['delta_price1', 'delta_price2']  # 用户偏好价格\n",
    "consume_level = ['consuming_capacity', 'avgprice']  # 消费能力指数，平均价格\n",
    "hotel_hot = ['cancelrate', 'novoters', 'commentnums']  # 当前酒店历史订单取消率，当前酒店评分人数，当前酒店点评数\n",
    "hotel_hot_pre = [\"commentnums_pre\",\"novoters_pre2\",\"commentnums_pre2\",\"novoters_pre\"]  # 24小时历史浏览次数最多酒店点评数，24小时历史浏览酒店评分人数均值，24小时历史浏览次数最多酒店评分人数，24小时历史浏览酒店点评数均值\n",
    "\n",
    "# PCA主成分分析降维\n",
    "pca = PCA(n_components = 1)\n",
    "data1['order_nums'] = pca.fit_transform(data1[order_nums])\n",
    "data1['decision_habit'] = pca.fit_transform(data1[decision_habit])\n",
    "data1['customer_value'] = pca.fit_transform(data1[customer_value])\n",
    "data1['consume_level'] = pca.fit_transform(data1[consume_level])\n",
    "data1['hotel_hot'] = pca.fit_transform(data1[hotel_hot])\n",
    "data1['hotel_hot_pre'] = pca.fit_transform(data1[hotel_hot_pre])\n",
    "data1['price_prefer'] = pca.fit_transform(data1[price_prefer])\n",
    "\n",
    "data1.drop(order_nums, axis = 1, inplace=True)\n",
    "data1.drop(decision_habit, axis = 1, inplace=True)\n",
    "data1.drop(customer_value, axis = 1, inplace=True)\n",
    "data1.drop(consume_level, axis = 1, inplace=True)\n",
    "data1.drop(hotel_hot, axis = 1, inplace=True)\n",
    "data1.drop(hotel_hot_pre, axis = 1, inplace=True)\n",
    "data1.drop(price_prefer, axis = 1, inplace=True)"
   ]
  },
  {
   "cell_type": "markdown",
   "metadata": {
    "ExecuteTime": {
     "end_time": "2021-03-07T20:20:42.119636Z",
     "start_time": "2021-03-07T20:20:42.059670Z"
    }
   },
   "source": [
    "### 标准化"
   ]
  },
  {
   "cell_type": "code",
   "execution_count": 19,
   "metadata": {
    "ExecuteTime": {
     "end_time": "2021-03-08T02:56:05.842806Z",
     "start_time": "2021-03-08T02:56:04.759414Z"
    }
   },
   "outputs": [],
   "source": [
    "\n",
    "y = data1['label']\n",
    "x = data1.drop('label', axis=1)\n",
    "\n",
    "x = pd.DataFrame(x)\n",
    "\n",
    "scaler = StandardScaler()\n",
    "scaler.fit(x)\n",
    "\n",
    "X = scaler.transform(x)\n"
   ]
  },
  {
   "cell_type": "markdown",
   "metadata": {},
   "source": [
    "## 建模 "
   ]
  },
  {
   "cell_type": "markdown",
   "metadata": {},
   "source": [
    "### 划分数据集 "
   ]
  },
  {
   "cell_type": "code",
   "execution_count": 20,
   "metadata": {
    "ExecuteTime": {
     "end_time": "2021-03-08T02:56:06.617371Z",
     "start_time": "2021-03-08T02:56:05.844788Z"
    }
   },
   "outputs": [],
   "source": [
    "# 由于建模时我们使用了交叉验证法 所以这里划分数据集没有实际意义\n",
    "# 更新：本案例数据量足够 无需使用也无法使用交叉验证法 否则运行时间会很长\n",
    "\n",
    "from sklearn.model_selection import train_test_split, GridSearchCV\n",
    "\n",
    "X_train, X_test, y_train, y_test = train_test_split(X, y, test_size = 0.3, random_state = 420)"
   ]
  },
  {
   "cell_type": "markdown",
   "metadata": {
    "ExecuteTime": {
     "end_time": "2021-03-07T21:27:26.272648Z",
     "start_time": "2021-03-07T21:27:26.264660Z"
    }
   },
   "source": [
    "### 模型选择 "
   ]
  },
  {
   "cell_type": "code",
   "execution_count": 27,
   "metadata": {
    "ExecuteTime": {
     "end_time": "2021-03-08T03:49:50.014478Z",
     "start_time": "2021-03-08T03:49:49.933528Z"
    },
    "code_folding": []
   },
   "outputs": [],
   "source": [
    "MLA = [\n",
    "    # 随机森林\n",
    "    ensemble.RandomForestClassifier()\n",
    "    # Xgboost\n",
    "    # XGBClassifier()\n",
    "]"
   ]
  },
  {
   "cell_type": "markdown",
   "metadata": {},
   "source": [
    "### 模型测试"
   ]
  },
  {
   "cell_type": "code",
   "execution_count": null,
   "metadata": {
    "ExecuteTime": {
     "start_time": "2021-03-08T03:49:51.745Z"
    },
    "scrolled": true
   },
   "outputs": [
    {
     "name": "stdout",
     "output_type": "stream",
     "text": [
      "1.1\n"
     ]
    }
   ],
   "source": [
    "\n",
    "# 模型预测结果比较表\n",
    "MLA_columns = ['MLA Name']\n",
    "MLA_compare = pd.DataFrame(columns = MLA_columns)\n",
    "\n",
    "# 各预测结果全值比较表\n",
    "MLA_predict = y\n",
    "\n",
    "row_index = 0\n",
    "for alg in MLA:\n",
    "\n",
    "    MLA_name = alg.__class__.__name__                       # 获取算法名称\n",
    "    print(1.1)\n",
    "    MLA_compare.loc[row_index, 'MLA Name'] = MLA_name\n",
    "#     MLA_compare.loc[row_index, 'MLA Parameters'] = str(alg.get_params())  # 获取算法参数\n",
    "        \n",
    "    alg.fit(X_train, y_train)\n",
    "    print(1)\n",
    "    y_prob = alg.predict_proba(X_test)[:,1]                 # 预测1类的概率\n",
    "    y_pred = alg.predict(X_test)\n",
    "    print(2)\n",
    "    fpr,tpr,threshold = metrics.roc_curve(y_test,y_prob)    # 获取真阳率、伪阳率、阈值\n",
    "    auc = metrics.auc(fpr,tpr)                        # AUC得分\n",
    "    accuracy = metrics.accuracy_score(y_test,y_pred)           # 模型准确率\n",
    "    print(3)\n",
    "    MLA_compare[row_index, 'auc_score'] = auc\n",
    "    MLA_compare[row_index, 'accuracy_score']= accuracy\n",
    "    print(MLA_compare)\n",
    "    MLA_predict[MLA_name] = y_pred                          # 记录每种算法的预测结果\n",
    "    print(4)\n",
    "    row_index+=1\n",
    "\n",
    "    \n",
    "#print and sort table: https://pandas.pydata.org/pandas-docs/stable/generated/pandas.DataFrame.sort_values.html\n",
    "MLA_compare.sort_values(by = ['accuracy_score'], ascending = False, inplace = True)\n",
    "MLA_compare"
   ]
  },
  {
   "cell_type": "code",
   "execution_count": null,
   "metadata": {
    "ExecuteTime": {
     "end_time": "2021-03-08T02:56:07.218996Z",
     "start_time": "2021-03-08T02:55:35.661Z"
    }
   },
   "outputs": [],
   "source": [
    "print(MLA_compare)\n",
    "auc"
   ]
  }
 ],
 "metadata": {
  "kernelspec": {
   "display_name": "Python 3",
   "language": "python",
   "name": "python3"
  },
  "language_info": {
   "codemirror_mode": {
    "name": "ipython",
    "version": 3
   },
   "file_extension": ".py",
   "mimetype": "text/x-python",
   "name": "python",
   "nbconvert_exporter": "python",
   "pygments_lexer": "ipython3",
   "version": "3.8.3"
  },
  "varInspector": {
   "cols": {
    "lenName": 16,
    "lenType": 16,
    "lenVar": 40
   },
   "kernels_config": {
    "python": {
     "delete_cmd_postfix": "",
     "delete_cmd_prefix": "del ",
     "library": "var_list.py",
     "varRefreshCmd": "print(var_dic_list())"
    },
    "r": {
     "delete_cmd_postfix": ") ",
     "delete_cmd_prefix": "rm(",
     "library": "var_list.r",
     "varRefreshCmd": "cat(var_dic_list()) "
    }
   },
   "types_to_exclude": [
    "module",
    "function",
    "builtin_function_or_method",
    "instance",
    "_Feature"
   ],
   "window_display": false
  }
 },
 "nbformat": 4,
 "nbformat_minor": 4
}
